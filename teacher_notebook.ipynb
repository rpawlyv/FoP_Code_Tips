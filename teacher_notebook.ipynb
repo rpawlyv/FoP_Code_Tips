{
 "cells": [
  {
   "cell_type": "markdown",
   "metadata": {
    "pycharm": {
     "name": "#%% md\n"
    }
   },
   "source": [
    "\n",
    "# Where did they learn that?\n",
    "\n",
    "## A Teacher Handbook for advanced FoP student techniques\n",
    "\n",
    "### Students rock and do a lot of independent research or have previous experience. Here are some of the most common examples I can think of for each of the Modules. The code in this notebook is interactive!\n"
   ]
  },
  {
   "cell_type": "markdown",
   "metadata": {},
   "source": [
    "\n",
    "## Module 1:\n",
    "\n",
    "### Printing Strings\n",
    "\n",
    "You can use either \" or ' to wrap your strings. Using ' lets you use quotes in your strings!\n"
   ]
  },
  {
   "cell_type": "code",
   "execution_count": 3,
   "metadata": {
    "pycharm": {
     "name": "#%%\n"
    }
   },
   "outputs": [
    {
     "name": "stdout",
     "output_type": "stream",
     "text": [
      "Mr. Pawly: \"This is useful for storytelling!\"\n"
     ]
    }
   ],
   "source": [
    "print('Mr. Pawly: \"This is useful for storytelling!\"')"
   ]
  },
  {
   "cell_type": "markdown",
   "metadata": {
    "pycharm": {
     "name": "#%% md\n"
    }
   },
   "source": [
    "\n",
    "Python uses backslashes \\ to let you do special things in a string.\n",
    "For example, we can use \\ to get both ' and \" printed!"
   ]
  },
  {
   "cell_type": "code",
   "execution_count": null,
   "metadata": {
    "pycharm": {
     "name": "#%%\n"
    }
   },
   "outputs": [],
   "source": [
    "print('Mr. Pawly: \"The dog stole Bob\\'s burger!\"')"
   ]
  },
  {
   "cell_type": "markdown",
   "metadata": {
    "pycharm": {
     "name": "#%% md\n"
    }
   },
   "source": [
    "\n",
    "Other common uses are \\n for newline and \\t for tab"
   ]
  },
  {
   "cell_type": "code",
   "execution_count": null,
   "metadata": {
    "pycharm": {
     "name": "#%%\n"
    }
   },
   "outputs": [],
   "source": [
    "print(\"\\t Nice to have \\t a quick spacer!\")\n",
    "\n",
    "print(\"Printing on \\nmultiple lines \\nis a breeze!\")"
   ]
  },
  {
   "cell_type": "markdown",
   "metadata": {},
   "source": [
    "\n",
    "print() has an end parameter that controls how it separates from the next print() function. The default option is to use newlines, but we can change this to whatever we want!"
   ]
  },
  {
   "cell_type": "code",
   "execution_count": 10,
   "metadata": {
    "pycharm": {
     "name": "#%%\n"
    }
   },
   "outputs": [
    {
     "name": "stdout",
     "output_type": "stream",
     "text": [
      "I can choose to seperate with whatever I want! ^-^ Usually people choose to put a space or comma here!\n",
      "This is useful when printing things in loops, when you want to print next to each other!\n"
     ]
    }
   ],
   "source": [
    "print(\"I can choose to seperate with whatever I want!\", end=\" ^-^ \")\n",
    "print(\"Usually people choose to put a space or comma here!\")\n",
    "print(\"This is useful when printing things in loops,\", end=\" \")\n",
    "print(\"when you want to print next to each other!\")"
   ]
  },
  {
   "cell_type": "markdown",
   "metadata": {
    "pycharm": {
     "name": "#%% md\n"
    }
   },
   "source": [
    "### Variables\n",
    "\n",
    "Underscores, like dog_age, is the official format that the Python Style Guide requests for variables/functions. This is a great thing to talk about during DBAs if you ask them why they think camelCase is a best practice. Most other languages use camelCase as their standard, underscores are the 2nd most popular but they both achieve the same goal- making the variable easier to read!\n",
    "\n",
    "The lesson mentions being allowed to start a variable with an underscore _ . This is really only for certain Class Variables as a signal to other programmers... not important to talk about now.\n",
    "\n",
    "On a side note, naming classes is done with CapitalCase just like we teach in the class."
   ]
  },
  {
   "cell_type": "markdown",
   "metadata": {},
   "source": [
    "\n",
    "### Indexing and Slicing\n",
    "\n",
    "string[start : stop : step]\n",
    "\n",
    "You can insert negative numbers into any of the three parameters for indexing/slicing. You can also not put anything which has special behaviors. Let's explore with some examples!\n"
   ]
  },
  {
   "cell_type": "code",
   "execution_count": null,
   "metadata": {
    "pycharm": {
     "name": "#%%\n"
    }
   },
   "outputs": [],
   "source": [
    "name = \"John Doe\"\n",
    "print(name[-1]) #This prints \"e\". Very useful for the 'last' item in a sequence.\n",
    "print(name[7:0:-1]) #-1 in the step variable makes it count backwards\n",
    "print(name[7::-1]) #You can leave a section blank- this one goes to the end\n",
    "print(name[::]) #This would mean from the beginning to the end\n",
    "print(name[1:]) #This is starting from 1 to the end"
   ]
  },
  {
   "cell_type": "markdown",
   "metadata": {},
   "source": [
    "\n",
    "### Concatenation\n",
    "\n",
    "Students will learn lots of alternative ways to concatenate, whether from previous experience or if they struggle to concatenate Strings with integers/floats and look for help online.\n",
    "\n",
    "The following techniques work with any type of data! No str() needed! It is good for us to know how they work for reference but encourage your students to practice the 'traditional' procedures we teach in this course. Shortcuts/Optimizations are great but learning the generic methods help students learn more about types of data!\n",
    "\n",
    "#### 1. f-strings (Python 3.6 technique, not supported in our IDLE)\n",
    "\n",
    "The idea is you write f before the string and then you use {} to insert variables or other runnable code. Programmers with experience tend to do this exclusively now so don't be surprised to see this come up!"
   ]
  },
  {
   "cell_type": "code",
   "execution_count": null,
   "metadata": {
    "pycharm": {
     "is_executing": true,
     "name": "#%%\n"
    }
   },
   "outputs": [],
   "source": [
    "name = \"John Doe\"\n",
    "dog_name = \"Storm\"\n",
    "\n",
    "print(f\"{name}'s dog, {dog_name}, is fluffy and I love her lots!\")"
   ]
  },
  {
   "cell_type": "markdown",
   "metadata": {},
   "source": [
    "\n",
    "#### 2. string.format() (Python 2- works in our IDLE)\n",
    "\n",
    "This is the 2nd most popular style. It works in our IDLE and is basically the older version of f-strings. If you see students using this, encourage them to learn f-strings outside of the class instead of spending time learning more about .format()\n",
    "\n",
    "It similarly uses {} as a placeholder, and you plug the variables/calculations inside format()"
   ]
  },
  {
   "cell_type": "code",
   "execution_count": null,
   "metadata": {
    "pycharm": {
     "name": "#%%\n"
    }
   },
   "outputs": [],
   "source": [
    "name = \"John Doe\"\n",
    "dog_age = 15\n",
    "print(\"{}'s dog is {} years old!\".format(name, dog_age))"
   ]
  },
  {
   "cell_type": "markdown",
   "metadata": {},
   "source": [
    "\n",
    "#### 3. Comma method , (Python 2- works in our IDLE)\n",
    "\n",
    "Adding commas between data is the same as concatenating a single space \" \". I feel some students stumble upon this by accident, don't assume they know it!"
   ]
  },
  {
   "cell_type": "code",
   "execution_count": null,
   "metadata": {
    "pycharm": {
     "name": "#%%\n"
    }
   },
   "outputs": [],
   "source": [
    "name = \"John Doe\"\n",
    "dog_age = 15\n",
    "print(name,\"loves walking around with his\",dog_age,\"year old pup!\")"
   ]
  },
  {
   "cell_type": "markdown",
   "metadata": {},
   "source": [
    "\n",
    "### String Inputs\n",
    "\n",
    "Our IDLE forces all inputs() to be answered before displaying things. More of a bug than a feature!\n",
    "There is a video on the Module 1 Course Help Site that shows how to use time.sleep() to 'fix' this\n",
    "Good thing to know and put in grading feedback for students who got 100's on 1.05\n",
    "\n",
    "<https://www.youtube.com/watch?v=bx6CzQab0sI>"
   ]
  },
  {
   "cell_type": "code",
   "execution_count": 2,
   "metadata": {
    "pycharm": {
     "name": "#%%\n"
    }
   },
   "outputs": [
    {
     "name": "stdout",
     "output_type": "stream",
     "text": [
      "Notice in this notebook that this prints out before the input is asked\n",
      "Hows are you feeling, Rockstar? Awesome\n",
      "Great to hear you are feeling awesome!\n",
      "Students can either use time.sleep() or experiment with other IDE's to see differences!\n"
     ]
    }
   ],
   "source": [
    "print(\"Notice in this notebook that this prints out before the input is asked\")\n",
    "mood = input(\"Hows are you feeling, Rockstar? \")\n",
    "print(f\"Great to hear you are feeling {mood.lower()}!\")\n",
    "print(\"Students can either use time.sleep() or experiment with other IDE's to see differences!\")"
   ]
  }
 ],
 "metadata": {
  "kernelspec": {
   "display_name": "Python 3 (ipykernel)",
   "language": "python",
   "name": "python3"
  },
  "language_info": {
   "codemirror_mode": {
    "name": "ipython",
    "version": 3
   },
   "file_extension": ".py",
   "mimetype": "text/x-python",
   "name": "python",
   "nbconvert_exporter": "python",
   "pygments_lexer": "ipython3",
   "version": "3.9.5"
  }
 },
 "nbformat": 4,
 "nbformat_minor": 1
}