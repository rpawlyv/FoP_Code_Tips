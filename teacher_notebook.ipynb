{
 "cells": [
  {
   "cell_type": "markdown",
   "metadata": {
    "pycharm": {
     "name": "#%% md\n"
    }
   },
   "source": [
    "\n",
    "# Where did they learn that?\n",
    "\n",
    "## A Teacher Handbook for advanced FoP student techniques\n",
    "\n",
    "### Students rock and do a lot of independent research or have previous experience. Here are some of the most common examples I can think of for each of the Modules. The code in this notebook is interactive! You can click on blocks of code and press CTRL + Enter or the Run button on the top toolbar to see the code execute! I will have most of the blocks ran already underneath the code snippet.\n"
   ]
  },
  {
   "cell_type": "markdown",
   "source": [
    "\n",
    "## Table of Contents\n",
    "\n",
    "* [Module 1](#mod1)\n",
    "    * [Printing Techniques](#mod1)\n",
    "    * [Variable Naming](#variables)\n",
    "    * [Advanced Indexing/Slicing](#indexing)\n",
    "    * [Types of Concatenation/String Formatting](#concat)\n",
    "\n",
    "* [Module 2](#mod2)\n",
    "    * [Notes on Integers and Floats](#mod2)\n",
    "    * [Importing Modules](#math)"
   ],
   "metadata": {
    "collapsed": false
   }
  },
  {
   "cell_type": "markdown",
   "source": [
    "\n",
    "## General IDLE Tips\n",
    "\n",
    "* You can open the IDLE as a new tab to avoid the popup and have more room to read/write!\n",
    "* You can highlight multiple lines and press TAB to indent multiple lines of code. This method only indents by 2 spaces so you need to press it twice.\n",
    "* Certain shortcuts that work for many textboxes work here as well such as CTRL+Z/CTRL+Y for undo/redo.\n",
    "* You can right click on an IDLE tab and press Duplicate (on Google Chrome) to have multiple IDLE's on your Chrome window."
   ],
   "metadata": {
    "collapsed": false
   }
  },
  {
   "cell_type": "markdown",
   "source": [
    "<a id = 'mod1'></a>"
   ],
   "metadata": {
    "collapsed": false
   }
  },
  {
   "cell_type": "markdown",
   "metadata": {},
   "source": [
    "\n",
    "## Module 1:\n",
    "\n",
    "### Printing Strings\n",
    "\n",
    "You can use either \" or ' to wrap your strings. Using ' lets you use quotes in your strings!\n"
   ]
  },
  {
   "cell_type": "code",
   "execution_count": 1,
   "metadata": {
    "pycharm": {
     "name": "#%%\n"
    }
   },
   "outputs": [
    {
     "name": "stdout",
     "output_type": "stream",
     "text": [
      "Mr. Pawly: \"This is useful for storytelling!\"\n"
     ]
    }
   ],
   "source": [
    "print('Mr. Pawly: \"This is useful for storytelling!\"')"
   ]
  },
  {
   "cell_type": "markdown",
   "metadata": {
    "pycharm": {
     "name": "#%% md\n"
    }
   },
   "source": [
    "\n",
    "Python uses backslashes \\ to let you do special things in a string.\n",
    "For example, we can use \\ to get both ' and \" printed!"
   ]
  },
  {
   "cell_type": "code",
   "execution_count": 12,
   "metadata": {
    "pycharm": {
     "name": "#%%\n"
    }
   },
   "outputs": [
    {
     "name": "stdout",
     "output_type": "stream",
     "text": [
      "Mr. Pawly: \"The dog stole Bob's burger!\"\n"
     ]
    }
   ],
   "source": [
    "print('Mr. Pawly: \"The dog stole Bob\\'s burger!\"')"
   ]
  },
  {
   "cell_type": "markdown",
   "metadata": {
    "pycharm": {
     "name": "#%% md\n"
    }
   },
   "source": [
    "\n",
    "Other common uses are \\n for newline and \\t for tab"
   ]
  },
  {
   "cell_type": "code",
   "execution_count": 13,
   "metadata": {
    "pycharm": {
     "name": "#%%\n"
    }
   },
   "outputs": [
    {
     "name": "stdout",
     "output_type": "stream",
     "text": [
      "\t Nice to have \t a quick spacer!\n",
      "Printing on \n",
      "multiple lines \n",
      "is a breeze!\n"
     ]
    }
   ],
   "source": [
    "print(\"\\t Nice to have \\t a quick spacer!\")\n",
    "\n",
    "print(\"Printing on \\nmultiple lines \\nis a breeze!\")"
   ]
  },
  {
   "cell_type": "markdown",
   "metadata": {},
   "source": [
    "\n",
    "print() has an end parameter that controls how it separates from the next print() function. The default option is to use newlines, but we can change this to whatever we want!"
   ]
  },
  {
   "cell_type": "code",
   "execution_count": 14,
   "metadata": {
    "pycharm": {
     "name": "#%%\n"
    }
   },
   "outputs": [
    {
     "name": "stdout",
     "output_type": "stream",
     "text": [
      "I can choose to seperate with whatever I want! ^-^ Usually people choose to put a space or comma here!\n",
      "This is useful when printing things in loops, when you want to print next to each other!\n"
     ]
    }
   ],
   "source": [
    "print(\"I can choose to seperate with whatever I want!\", end=\" ^-^ \")\n",
    "print(\"Usually people choose to put a space or comma here!\")\n",
    "print(\"This is useful when printing things in loops,\", end=\" \")\n",
    "print(\"when you want to print next to each other!\")"
   ]
  },
  {
   "cell_type": "markdown",
   "source": [
    "<a id = 'variables'></a>"
   ],
   "metadata": {
    "collapsed": false
   }
  },
  {
   "cell_type": "markdown",
   "metadata": {
    "pycharm": {
     "name": "#%% md\n"
    }
   },
   "source": [
    "### Variables\n",
    "\n",
    "Underscores, like dog_age, is the official format that the Python Style Guide requests for variables/functions. This is a great thing to talk about during DBAs if you ask them why they think camelCase is a best practice. Most other languages use camelCase as their standard, underscores are the 2nd most popular but they both achieve the same goal- making the variable easier to read!\n",
    "\n",
    "The lesson mentions being allowed to start a variable with an underscore _ . This is really only for certain Class Variables as a signal to other programmers... not important to talk about now.\n",
    "\n",
    "On a side note, naming classes is done with CapitalCase just like we teach in the class."
   ]
  },
  {
   "cell_type": "markdown",
   "source": [
    "<a id = 'indexing'></a>"
   ],
   "metadata": {
    "collapsed": false
   }
  },
  {
   "cell_type": "markdown",
   "metadata": {},
   "source": [
    "\n",
    "### Indexing and Slicing\n",
    "\n",
    "string[start : stop : step]\n",
    "\n",
    "You can insert negative numbers into any of the three parameters for indexing/slicing. You can also not put anything which has special behaviors. Let's explore with some examples!\n"
   ]
  },
  {
   "cell_type": "code",
   "execution_count": 15,
   "metadata": {
    "pycharm": {
     "name": "#%%\n"
    }
   },
   "outputs": [
    {
     "name": "stdout",
     "output_type": "stream",
     "text": [
      "e\n",
      "eoD nho\n",
      "eoD nhoJ\n",
      "John Doe\n",
      "ohn Doe\n"
     ]
    }
   ],
   "source": [
    "name = \"John Doe\"\n",
    "print(name[-1]) #This prints \"e\". Very useful for the 'last' item in a sequence.\n",
    "print(name[7:0:-1]) #-1 in the step variable makes it count backwards\n",
    "print(name[7::-1]) #You can leave a section blank- this one goes to the end\n",
    "print(name[::]) #This would mean from the beginning to the end\n",
    "print(name[1:]) #This is starting from 1 to the end"
   ]
  },
  {
   "cell_type": "markdown",
   "source": [
    "<a id = 'concat'></a>"
   ],
   "metadata": {
    "collapsed": false
   }
  },
  {
   "cell_type": "markdown",
   "metadata": {},
   "source": [
    "\n",
    "### Concatenation\n",
    "\n",
    "Students will learn lots of alternative ways to concatenate, whether from previous experience or if they struggle to concatenate Strings with integers/floats and look for help online.\n",
    "\n",
    "The following techniques work with any type of data! No str() needed! It is good for us to know how they work for reference but encourage your students to practice the 'traditional' procedures we teach in this course. Shortcuts/Optimizations are great but learning the generic methods help students learn more about types of data!\n",
    "\n",
    "#### 1. f-strings (Python 3.6 technique, not supported in our IDLE)\n",
    "\n",
    "The idea is you write f before the string and then you use {} to insert variables or other runnable code. Programmers with experience tend to do this exclusively now so don't be surprised to see this come up!"
   ]
  },
  {
   "cell_type": "code",
   "execution_count": 16,
   "metadata": {
    "pycharm": {
     "name": "#%%\n"
    }
   },
   "outputs": [
    {
     "name": "stdout",
     "output_type": "stream",
     "text": [
      "John Doe's dog, Storm, is fluffy and I love her lots!\n"
     ]
    }
   ],
   "source": [
    "name = \"John Doe\"\n",
    "dog_name = \"Storm\"\n",
    "\n",
    "print(f\"{name}'s dog, {dog_name}, is fluffy and I love her lots!\")"
   ]
  },
  {
   "cell_type": "markdown",
   "metadata": {},
   "source": [
    "\n",
    "#### 2. string.format() (Python 2- works in our IDLE)\n",
    "\n",
    "This is the 2nd most popular style. It works in our IDLE and is basically the older version of f-strings. If you see students using this, encourage them to learn f-strings outside of the class instead of spending time learning more about .format()\n",
    "\n",
    "It similarly uses {} as a placeholder, and you plug the variables/calculations inside format()"
   ]
  },
  {
   "cell_type": "code",
   "execution_count": 17,
   "metadata": {
    "pycharm": {
     "name": "#%%\n"
    }
   },
   "outputs": [
    {
     "name": "stdout",
     "output_type": "stream",
     "text": [
      "John Doe's dog is 15 years old!\n"
     ]
    }
   ],
   "source": [
    "name = \"John Doe\"\n",
    "dog_age = 15\n",
    "print(\"{}'s dog is {} years old!\".format(name, dog_age))"
   ]
  },
  {
   "cell_type": "markdown",
   "metadata": {},
   "source": [
    "\n",
    "#### 3. Comma method , (Python 2- works in our IDLE)\n",
    "\n",
    "Adding commas between data is the same as concatenating a single space \" \". I feel some students stumble upon this by accident, don't assume they know it!"
   ]
  },
  {
   "cell_type": "code",
   "execution_count": 18,
   "metadata": {
    "pycharm": {
     "name": "#%%\n"
    }
   },
   "outputs": [
    {
     "name": "stdout",
     "output_type": "stream",
     "text": [
      "John Doe loves walking around with his 15 year old pup!\n"
     ]
    }
   ],
   "source": [
    "name = \"John Doe\"\n",
    "dog_age = 15\n",
    "print(name,\"loves walking around with his\",dog_age,\"year old pup!\")"
   ]
  },
  {
   "cell_type": "markdown",
   "source": [],
   "metadata": {
    "collapsed": false
   }
  },
  {
   "cell_type": "markdown",
   "source": [
    "<a id = 'input'></a>"
   ],
   "metadata": {
    "collapsed": false,
    "pycharm": {
     "name": "#%% md\n"
    }
   }
  },
  {
   "cell_type": "markdown",
   "metadata": {},
   "source": [
    "\n",
    "### String Inputs\n",
    "\n",
    "Our IDLE forces all inputs() to be answered before displaying things. More of a bug than a feature!\n",
    "There is a video on the Module 1 Course Help Site that shows how to use time.sleep() to 'fix' this\n",
    "Good thing to know and put in grading feedback for students who got 100's on 1.05\n",
    "\n",
    "<https://www.youtube.com/watch?v=bx6CzQab0sI>"
   ]
  },
  {
   "cell_type": "code",
   "execution_count": 2,
   "metadata": {
    "pycharm": {
     "name": "#%%\n"
    }
   },
   "outputs": [
    {
     "name": "stdout",
     "output_type": "stream",
     "text": [
      "Notice in this notebook that this prints out before the input is asked\n",
      "Hows are you feeling, Rockstar? great\n",
      "Great to hear you are feeling great!\n",
      "Students can either use time.sleep() or experiment with other IDE's to see differences!\n"
     ]
    }
   ],
   "source": [
    "print(\"Notice in this notebook that this prints out before the input is asked\")\n",
    "mood = input(\"Hows are you feeling, Rockstar? \")\n",
    "print(f\"Great to hear you are feeling {mood.lower()}!\")\n",
    "print(\"Students can either use time.sleep() or experiment with other IDE's to see differences!\")"
   ]
  },
  {
   "cell_type": "markdown",
   "source": [
    "<a id = 'mod2'></a>"
   ],
   "metadata": {
    "collapsed": false,
    "pycharm": {
     "name": "#%% md\n"
    }
   }
  },
  {
   "cell_type": "markdown",
   "metadata": {},
   "source": [
    "\n",
    "## Module 2\n",
    "\n",
    "### Integers/Floats and the casting functions str(), float(), int()\n",
    "\n",
    "Python follows the order of operations. To distribute you still need to put a *.\n",
    "\n",
    "Example:  _yearlyPay = 52 * (wage * 40 + bonus)_\n",
    "\n",
    "In Python 2, division between integers would lead to integer answers, rounding down if needed. Since our IDLE upgrade, it will be a float answer now. No need make either number a float!"
   ]
  },
  {
   "cell_type": "code",
   "execution_count": 20,
   "metadata": {
    "pycharm": {
     "name": "#%%\n"
    }
   },
   "outputs": [
    {
     "name": "stdout",
     "output_type": "stream",
     "text": [
      "0.8333333333333334\n"
     ]
    }
   ],
   "source": [
    "print(5/6) #in Python 2, we would say to do 5.0/6 or 5/6.0 etc"
   ]
  },
  {
   "cell_type": "markdown",
   "source": [
    "Converting from integers to floats and vice versa is painless, but we need to be careful when converting Strings into integers specifically. This is due to the int() function not changing Strings into floating-point numbers before converting into integers."
   ],
   "metadata": {
    "collapsed": false
   }
  },
  {
   "cell_type": "code",
   "execution_count": 7,
   "outputs": [
    {
     "name": "stdout",
     "output_type": "stream",
     "text": [
      "3\n",
      "3.0\n",
      "7.0\n"
     ]
    },
    {
     "ename": "ValueError",
     "evalue": "invalid literal for int() with base 10: '7.77'",
     "output_type": "error",
     "traceback": [
      "\u001B[1;31m---------------------------------------------------------------------------\u001B[0m",
      "\u001B[1;31mValueError\u001B[0m                                Traceback (most recent call last)",
      "Cell \u001B[1;32mIn[7], line 4\u001B[0m\n\u001B[0;32m      2\u001B[0m \u001B[38;5;28mprint\u001B[39m(\u001B[38;5;28mfloat\u001B[39m(\u001B[38;5;241m3\u001B[39m))    \u001B[38;5;66;03m# integer -> float adds .0\u001B[39;00m\n\u001B[0;32m      3\u001B[0m \u001B[38;5;28mprint\u001B[39m(\u001B[38;5;28mfloat\u001B[39m(\u001B[38;5;124m\"\u001B[39m\u001B[38;5;124m7\u001B[39m\u001B[38;5;124m\"\u001B[39m))  \u001B[38;5;66;03m# string -> float (no problem without decimals)\u001B[39;00m\n\u001B[1;32m----> 4\u001B[0m \u001B[38;5;28mprint\u001B[39m(\u001B[38;5;28;43mint\u001B[39;49m\u001B[43m(\u001B[49m\u001B[38;5;124;43m\"\u001B[39;49m\u001B[38;5;124;43m7.77\u001B[39;49m\u001B[38;5;124;43m\"\u001B[39;49m\u001B[43m)\u001B[49m) \u001B[38;5;66;03m# string -> integer (int() tries to go directly into an integer and fails)\u001B[39;00m\n",
      "\u001B[1;31mValueError\u001B[0m: invalid literal for int() with base 10: '7.77'"
     ]
    }
   ],
   "source": [
    "print(int(3.45))   # float -> integer rounds down to 3\n",
    "print(float(3))    # integer -> float adds .0\n",
    "print(float(\"7\"))  # string -> float (no problem without decimals)\n",
    "print(int(\"7.77\")) # string -> integer (int() tries to go directly into an integer and fails)"
   ],
   "metadata": {
    "collapsed": false,
    "pycharm": {
     "name": "#%%\n"
    }
   }
  },
  {
   "cell_type": "markdown",
   "metadata": {
    "pycharm": {
     "name": "#%% md\n"
    }
   },
   "source": [
    "<div class=\"alert alert-block alert-info\">\n",
    "We explain in the lesson floats take up more memory than integers do, but this isn't as true anymore. Real reasons to select between the two is controlling what types of numbers you want to accept and the fact that some functions only accept integers for some of their parameters.\n",
    "\n",
    "Make a note when you see students use str() on data that is already a String so you can explain it's not needed. Same with excessive use of int() or float() on things that are already numbers. No errors happen, but it wastes Python's time (like asking to paint a blue wall... blue!)\n",
    "</div>"
   ]
  },
  {
   "cell_type": "markdown",
   "source": [
    "<a id = 'math'></a>"
   ],
   "metadata": {
    "collapsed": false
   }
  },
  {
   "cell_type": "markdown",
   "source": [
    "### Math Module (importing Modules)\n",
    "\n",
    "The 'from xxx import *' style of importing is extremely discouraged by the coding community. If you want to import all the functions from a module, the 'import xxx' style is preferred. The 'from xxx import y' format is useful when you only want a couple of functions from a module."
   ],
   "metadata": {
    "collapsed": false
   }
  },
  {
   "cell_type": "code",
   "execution_count": 3,
   "metadata": {
    "pycharm": {
     "name": "#%%\n"
    }
   },
   "outputs": [
    {
     "name": "stdout",
     "output_type": "stream",
     "text": [
      "9.0\n",
      "3.0\n"
     ]
    }
   ],
   "source": [
    "from math import pow, sqrt\n",
    "print(pow(3, 2))\n",
    "print(sqrt(9))"
   ]
  },
  {
   "cell_type": "markdown",
   "metadata": {},
   "source": [
    "The downside of 'import xxx' is that you have to write the module name first- math.sqrt(), math.pow() etc. This prevents naming conflicts with programmer-defined functions and such though!"
   ]
  },
  {
   "cell_type": "code",
   "execution_count": 4,
   "metadata": {
    "pycharm": {
     "name": "#%%\n"
    }
   },
   "outputs": [
    {
     "name": "stdout",
     "output_type": "stream",
     "text": [
      "9.0\n",
      "3.0\n"
     ]
    }
   ],
   "source": [
    "import math\n",
    "print(math.pow(3, 2))\n",
    "print(math.sqrt(9))"
   ]
  },
  {
   "cell_type": "markdown",
   "metadata": {},
   "source": [
    "If you are working with a module with a long name, one can rename it like this- not super important for our kiddos but good to know how people make their lives easier! Some modules have community standards on what to rename it as a best practice. For example, the popular Pandas module should only be renamed to pd."
   ]
  },
  {
   "cell_type": "code",
   "execution_count": 6,
   "metadata": {
    "pycharm": {
     "name": "#%%\n"
    }
   },
   "outputs": [
    {
     "name": "stdout",
     "output_type": "stream",
     "text": [
      "9.0\n",
      "3.0\n"
     ]
    }
   ],
   "source": [
    "import math as m\n",
    "print(m.pow(3, 2))\n",
    "print(m.sqrt(9))"
   ]
  }
 ],
 "metadata": {
  "kernelspec": {
   "display_name": "Python 3 (ipykernel)",
   "language": "python",
   "name": "python3"
  },
  "language_info": {
   "codemirror_mode": {
    "name": "ipython",
    "version": 3
   },
   "file_extension": ".py",
   "mimetype": "text/x-python",
   "name": "python",
   "nbconvert_exporter": "python",
   "pygments_lexer": "ipython3",
   "version": "3.9.5"
  }
 },
 "nbformat": 4,
 "nbformat_minor": 1
}