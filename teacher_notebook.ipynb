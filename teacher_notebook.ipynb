{
 "cells": [
  {
   "cell_type": "markdown",
   "metadata": {
    "pycharm": {
     "name": "#%% md\n"
    }
   },
   "source": [
    "\n",
    "# Where did they learn that?\n",
    "\n",
    "## A Teacher Handbook for advanced FoP student techniques\n",
    "\n",
    "### Students rock and do a lot of independent research or have previous experience. Here are some of the most common examples I can think of for each of the Modules. I will also include common errors or misconceptions that aren't explained in the lessons to help students with more tricky problems.\n",
    "\n",
    "Feel free to contact me at rpawly@flvs.net if there is ever a Python issue you can't seem to figure out! Always happy to support the team.\n"
   ]
  },
  {
   "cell_type": "markdown",
   "source": [
    "\n",
    "## Table of Contents\n",
    "\n",
    "* [Module 1](#mod1)\n",
    "    * [Printing Techniques](#mod1)\n",
    "    * [Variable Naming](#variables)\n",
    "    * [Advanced Indexing/Slicing](#indexing)\n",
    "    * [Types of Concatenation/String Formatting](#concat)\n",
    "* [Module 2](#mod2)\n",
    "    * [Notes on Integers and Floats](#mod2)\n",
    "    * [Importing Modules](#math)\n",
    "* [Module 3](#mod3)\n",
    "    * [Turtle Graphics](#mod3)\n",
    "    * [For Loops](#forloop)\n",
    "    * [While Loops](#whileloop)\n",
    "    * [Creating Functions- Optional Parameters and return](#creatingfunc)\n",
    "* [Module 4](#mod4)\n",
    "    * [if Statments](#mod4)\n",
    "        * [Greater Than/Less Than with Strings (student mistake)](#mod4)\n",
    "    * [elif Statements](#elif)\n",
    "    * [Logical Operators (and/or/not)](#logicaloperator)\n",
    "    * [Lists](#list)\n",
    "        * [Flag Variables](#flag)\n",
    "        * [enumerate() function](#enumerate)\n",
    "        * [Nested Loops](#nestedLoop)\n",
    "* Module 5\n",
    "    * Placeholder (No common advanced topics I can think to mention)\n",
    "* Module 6\n",
    "    * Placeholder (No common advanced topics I can think to mention)\n",
    "* [Overall Philosophy on the Course](#musings)"
   ],
   "metadata": {
    "collapsed": false,
    "pycharm": {
     "name": "#%% md\n"
    }
   }
  },
  {
   "cell_type": "markdown",
   "source": [
    "\n",
    "## General IDLE Tips\n",
    "\n",
    "* You can open the IDLE as a new tab to avoid the popup and have more room to read/write!\n",
    "* You can highlight multiple lines and press TAB to indent multiple lines of code. This method only indents by 2 spaces so you need to press it twice.\n",
    "* Certain shortcuts that work for many textboxes work here as well such as CTRL+Z/CTRL+Y for undo/redo.\n",
    "* You can right click on an IDLE tab and press Duplicate (on Google Chrome) to have multiple IDLE's on your Chrome window."
   ],
   "metadata": {
    "collapsed": false
   }
  },
  {
   "cell_type": "markdown",
   "source": [
    "<a id = 'mod1'></a>"
   ],
   "metadata": {
    "collapsed": false
   }
  },
  {
   "cell_type": "markdown",
   "metadata": {},
   "source": [
    "\n",
    "## Module 1:\n",
    "\n",
    "### Printing Strings\n",
    "\n",
    "You can use either \" or ' to wrap your strings. Using ' lets you use quotes in your strings!\n"
   ]
  },
  {
   "cell_type": "code",
   "execution_count": 18,
   "metadata": {
    "pycharm": {
     "name": "#%%\n"
    }
   },
   "outputs": [
    {
     "name": "stdout",
     "output_type": "stream",
     "text": [
      "Mr. Pawly: \"This is useful for storytelling!\"\n"
     ]
    }
   ],
   "source": [
    "print('Mr. Pawly: \"This is useful for storytelling!\"')"
   ]
  },
  {
   "cell_type": "markdown",
   "metadata": {
    "pycharm": {
     "name": "#%% md\n"
    }
   },
   "source": [
    "\n",
    "Python uses backslashes \\ to let you do special things in a string.\n",
    "For example, we can use \\ to get both ' and \" printed!"
   ]
  },
  {
   "cell_type": "code",
   "execution_count": 19,
   "metadata": {
    "pycharm": {
     "name": "#%%\n"
    }
   },
   "outputs": [
    {
     "name": "stdout",
     "output_type": "stream",
     "text": [
      "Mr. Pawly: \"The dog stole Bob's burger!\"\n"
     ]
    }
   ],
   "source": [
    "print('Mr. Pawly: \"The dog stole Bob\\'s burger!\"')"
   ]
  },
  {
   "cell_type": "markdown",
   "metadata": {
    "pycharm": {
     "name": "#%% md\n"
    }
   },
   "source": [
    "\n",
    "Other common uses are \\n for newline and \\t for tab"
   ]
  },
  {
   "cell_type": "code",
   "execution_count": 20,
   "metadata": {
    "pycharm": {
     "name": "#%%\n"
    }
   },
   "outputs": [
    {
     "name": "stdout",
     "output_type": "stream",
     "text": [
      "\t Nice to have \t a quick spacer!\n",
      "Printing on \n",
      "multiple lines \n",
      "is a breeze!\n"
     ]
    }
   ],
   "source": [
    "print(\"\\t Nice to have \\t a quick spacer!\")\n",
    "\n",
    "print(\"Printing on \\nmultiple lines \\nis a breeze!\")"
   ]
  },
  {
   "cell_type": "markdown",
   "metadata": {},
   "source": [
    "\n",
    "print() has an end parameter that controls how it separates from the next print() function. The default option is to use newlines, but we can change this to whatever we want!"
   ]
  },
  {
   "cell_type": "code",
   "execution_count": 21,
   "metadata": {
    "pycharm": {
     "name": "#%%\n"
    }
   },
   "outputs": [
    {
     "name": "stdout",
     "output_type": "stream",
     "text": [
      "I can choose to seperate with whatever I want! ^-^ Usually people choose to put a space or comma here!\n",
      "This is useful when printing things in loops, when you want to print next to each other!\n"
     ]
    }
   ],
   "source": [
    "print(\"I can choose to seperate with whatever I want!\", end=\" ^-^ \")\n",
    "print(\"Usually people choose to put a space or comma here!\")\n",
    "print(\"This is useful when printing things in loops,\", end=\" \")\n",
    "print(\"when you want to print next to each other!\")"
   ]
  },
  {
   "cell_type": "markdown",
   "source": [
    "<a id = 'variables'></a>"
   ],
   "metadata": {
    "collapsed": false
   }
  },
  {
   "cell_type": "markdown",
   "metadata": {
    "pycharm": {
     "name": "#%% md\n"
    }
   },
   "source": [
    "### Variables\n",
    "\n",
    "Underscores, like dog_age, is the official format that the Python Style Guide requests for variables/functions. This is a great thing to talk about during DBAs if you ask them why they think camelCase is a best practice. Most other languages use camelCase as their standard, underscores are the 2nd most popular but they both achieve the same goal- making the variable easier to read!\n",
    "\n",
    "The lesson mentions being allowed to start a variable with an underscore _ . This is really only for certain Class Variables as a signal to other programmers... not important to talk about now.\n",
    "\n",
    "On a side note, naming classes is done with CapitalCase just like we teach in the class."
   ]
  },
  {
   "cell_type": "markdown",
   "source": [
    "<a id = 'indexing'></a>"
   ],
   "metadata": {
    "collapsed": false
   }
  },
  {
   "cell_type": "markdown",
   "metadata": {},
   "source": [
    "\n",
    "### Indexing and Slicing\n",
    "\n",
    "string[start : stop : step]\n",
    "\n",
    "You can insert negative numbers into any of the three parameters for indexing/slicing. You can also not put anything which has special behaviors. Let's explore with some examples!\n"
   ]
  },
  {
   "cell_type": "code",
   "execution_count": 22,
   "metadata": {
    "pycharm": {
     "name": "#%%\n"
    }
   },
   "outputs": [
    {
     "name": "stdout",
     "output_type": "stream",
     "text": [
      "e\n",
      "eoD nho\n",
      "eoD nhoJ\n",
      "John Doe\n",
      "ohn Doe\n"
     ]
    }
   ],
   "source": [
    "name = \"John Doe\"\n",
    "print(name[-1]) #This prints \"e\". Very useful for the 'last' item in a sequence.\n",
    "print(name[7:0:-1]) #-1 in the step variable makes it count backwards\n",
    "print(name[7::-1]) #You can leave a section blank- this one goes to the end\n",
    "print(name[::]) #This would mean from the beginning to the end\n",
    "print(name[1:]) #This is starting from 1 to the end"
   ]
  },
  {
   "cell_type": "markdown",
   "source": [
    "<a id = 'concat'></a>"
   ],
   "metadata": {
    "collapsed": false
   }
  },
  {
   "cell_type": "markdown",
   "metadata": {},
   "source": [
    "\n",
    "### Concatenation\n",
    "\n",
    "Students will learn lots of alternative ways to concatenate, whether from previous experience or if they struggle to concatenate Strings with integers/floats and look for help online.\n",
    "\n",
    "The following techniques work with any type of data! No str() needed! It is good for us to know how they work for reference but encourage your students to practice the 'traditional' procedures we teach in this course. Shortcuts/Optimizations are great but learning the generic methods help students learn more about types of data!\n",
    "\n",
    "#### 1. f-strings (Python 3.6 technique, not supported in our IDLE)\n",
    "\n",
    "The idea is you write f before the string and then you use {} to insert variables or other runnable code. Programmers with experience tend to do this exclusively now so don't be surprised to see this come up!"
   ]
  },
  {
   "cell_type": "code",
   "execution_count": 23,
   "metadata": {
    "pycharm": {
     "name": "#%%\n"
    }
   },
   "outputs": [
    {
     "name": "stdout",
     "output_type": "stream",
     "text": [
      "John Doe's dog, Storm, is fluffy and I love her lots!\n"
     ]
    }
   ],
   "source": [
    "name = \"John Doe\"\n",
    "dog_name = \"Storm\"\n",
    "\n",
    "print(f\"{name}'s dog, {dog_name}, is fluffy and I love her lots!\")"
   ]
  },
  {
   "cell_type": "markdown",
   "metadata": {},
   "source": [
    "\n",
    "#### 2. string.format() (Python 2- works in our IDLE)\n",
    "\n",
    "This is the 2nd most popular style. It works in our IDLE and is basically the older version of f-strings. If you see students using this, encourage them to learn f-strings outside of the class instead of spending time learning more about .format()\n",
    "\n",
    "It similarly uses {} as a placeholder, and you plug the variables/calculations inside format()"
   ]
  },
  {
   "cell_type": "code",
   "execution_count": 24,
   "metadata": {
    "pycharm": {
     "name": "#%%\n"
    }
   },
   "outputs": [
    {
     "name": "stdout",
     "output_type": "stream",
     "text": [
      "John Doe's dog is 15 years old!\n"
     ]
    }
   ],
   "source": [
    "name = \"John Doe\"\n",
    "dog_age = 15\n",
    "print(\"{}'s dog is {} years old!\".format(name, dog_age))"
   ]
  },
  {
   "cell_type": "markdown",
   "metadata": {},
   "source": [
    "\n",
    "#### 3. Comma method , (Python 2- works in our IDLE)\n",
    "\n",
    "Adding commas between data is the same as concatenating a single space \" \". I feel some students stumble upon this by accident, don't assume they know it!"
   ]
  },
  {
   "cell_type": "code",
   "execution_count": 25,
   "metadata": {
    "pycharm": {
     "name": "#%%\n"
    }
   },
   "outputs": [
    {
     "name": "stdout",
     "output_type": "stream",
     "text": [
      "John Doe loves walking around with his 15 year old pup!\n"
     ]
    }
   ],
   "source": [
    "name = \"John Doe\"\n",
    "dog_age = 15\n",
    "print(name,\"loves walking around with his\",dog_age,\"year old pup!\")"
   ]
  },
  {
   "cell_type": "markdown",
   "source": [],
   "metadata": {
    "collapsed": false
   }
  },
  {
   "cell_type": "markdown",
   "source": [
    "<a id = 'input'></a>"
   ],
   "metadata": {
    "collapsed": false,
    "pycharm": {
     "name": "#%% md\n"
    }
   }
  },
  {
   "cell_type": "markdown",
   "metadata": {},
   "source": [
    "\n",
    "### String Inputs\n",
    "\n",
    "Our IDLE forces all inputs() to be answered before displaying things. More of a bug than a feature!\n",
    "There is a video on the Module 1 Course Help Site that shows how to use time.sleep() to 'fix' this\n",
    "Good thing to know and put in grading feedback for students who got 100's on 1.05\n",
    "\n",
    "<https://www.youtube.com/watch?v=bx6CzQab0sI>"
   ]
  },
  {
   "cell_type": "code",
   "metadata": {
    "pycharm": {
     "name": "#%%\n"
    }
   },
   "source": [
    "print(\"Notice in this notebook that this prints out before the input is asked\")\n",
    "mood = input(\"Hows are you feeling, Rockstar? \")\n",
    "print(f\"Great to hear you are feeling {mood.lower()}!\")\n",
    "print(\"Students can either use time.sleep() or experiment with other IDE's to see differences!\")"
   ],
   "execution_count": null,
   "outputs": []
  },
  {
   "cell_type": "markdown",
   "source": [
    "<a id = 'mod2'></a>"
   ],
   "metadata": {
    "collapsed": false,
    "pycharm": {
     "name": "#%% md\n"
    }
   }
  },
  {
   "cell_type": "markdown",
   "metadata": {},
   "source": [
    "\n",
    "## Module 2\n",
    "\n",
    "### Integers/Floats and the casting functions str(), float(), int()\n",
    "\n",
    "Python follows the order of operations. To distribute you still need to put a *.\n",
    "\n",
    "Example:  _yearlyPay = 52 * (wage * 40 + bonus)_\n",
    "\n",
    "In Python 2, division between integers would lead to integer answers, rounding down if needed. Since our IDLE upgrade, it will be a float answer now. No need make either number a float!"
   ]
  },
  {
   "cell_type": "code",
   "execution_count": 27,
   "metadata": {
    "pycharm": {
     "name": "#%%\n"
    }
   },
   "outputs": [
    {
     "name": "stdout",
     "output_type": "stream",
     "text": [
      "0.8333333333333334\n"
     ]
    }
   ],
   "source": [
    "print(5/6) #in Python 2, we would say to do 5.0/6 or 5/6.0 etc"
   ]
  },
  {
   "cell_type": "markdown",
   "source": [
    "Converting from integers to floats and vice versa is painless, but we need to be careful when converting Strings into integers specifically. This is due to the int() function not changing Strings into floating-point numbers before converting into integers."
   ],
   "metadata": {
    "collapsed": false
   }
  },
  {
   "cell_type": "code",
   "execution_count": 28,
   "outputs": [
    {
     "name": "stdout",
     "output_type": "stream",
     "text": [
      "3\n",
      "3.0\n",
      "7.0\n"
     ]
    },
    {
     "ename": "ValueError",
     "evalue": "invalid literal for int() with base 10: '7.77'",
     "output_type": "error",
     "traceback": [
      "\u001B[1;31m---------------------------------------------------------------------------\u001B[0m",
      "\u001B[1;31mValueError\u001B[0m                                Traceback (most recent call last)",
      "Cell \u001B[1;32mIn[28], line 4\u001B[0m\n\u001B[0;32m      2\u001B[0m \u001B[38;5;28mprint\u001B[39m(\u001B[38;5;28mfloat\u001B[39m(\u001B[38;5;241m3\u001B[39m))    \u001B[38;5;66;03m# integer -> float adds .0\u001B[39;00m\n\u001B[0;32m      3\u001B[0m \u001B[38;5;28mprint\u001B[39m(\u001B[38;5;28mfloat\u001B[39m(\u001B[38;5;124m\"\u001B[39m\u001B[38;5;124m7\u001B[39m\u001B[38;5;124m\"\u001B[39m))  \u001B[38;5;66;03m# string -> float (no problem without decimals)\u001B[39;00m\n\u001B[1;32m----> 4\u001B[0m \u001B[38;5;28mprint\u001B[39m(\u001B[38;5;28;43mint\u001B[39;49m\u001B[43m(\u001B[49m\u001B[38;5;124;43m\"\u001B[39;49m\u001B[38;5;124;43m7.77\u001B[39;49m\u001B[38;5;124;43m\"\u001B[39;49m\u001B[43m)\u001B[49m) \u001B[38;5;66;03m# string -> integer (int() tries to go directly into an integer and fails)\u001B[39;00m\n",
      "\u001B[1;31mValueError\u001B[0m: invalid literal for int() with base 10: '7.77'"
     ]
    }
   ],
   "source": [
    "print(int(3.45))   # float -> integer rounds down to 3\n",
    "print(float(3))    # integer -> float adds .0\n",
    "print(float(\"7\"))  # string -> float (no problem without decimals)\n",
    "print(int(\"7.77\")) # string -> integer (int() tries to go directly into an integer and fails)"
   ],
   "metadata": {
    "collapsed": false,
    "pycharm": {
     "name": "#%%\n"
    }
   }
  },
  {
   "cell_type": "markdown",
   "metadata": {
    "pycharm": {
     "name": "#%% md\n"
    }
   },
   "source": [
    "<div class=\"alert alert-block alert-info\">\n",
    "We explain in the lesson floats take up more memory than integers do, but this isn't as true anymore. Real reasons to select between the two is controlling what types of numbers you want to accept and the fact that some functions only accept integers for some of their parameters.\n",
    "\n",
    "Make a note when you see students use str() on data that is already a String so you can explain it's not needed. Same with excessive use of int() or float() on things that are already numbers. No errors happen, but it wastes Python's time (like asking to paint a blue wall... blue!)\n",
    "</div>"
   ]
  },
  {
   "cell_type": "markdown",
   "source": [
    "<a id = 'math'></a>"
   ],
   "metadata": {
    "collapsed": false,
    "pycharm": {
     "name": "#%% md\n"
    }
   }
  },
  {
   "cell_type": "markdown",
   "source": [
    "### Math Module (importing Modules)\n",
    "\n",
    "The 'from xxx import *' style of importing is extremely discouraged by the coding community. If you want to import all the functions from a module, the 'import xxx' style is preferred. The 'from xxx import y' format is useful when you only want a couple of functions from a module."
   ],
   "metadata": {
    "collapsed": false
   }
  },
  {
   "cell_type": "code",
   "execution_count": null,
   "metadata": {
    "pycharm": {
     "name": "#%%\n"
    }
   },
   "outputs": [],
   "source": [
    "from math import pow, sqrt\n",
    "print(pow(3, 2))\n",
    "print(sqrt(9))"
   ]
  },
  {
   "cell_type": "markdown",
   "metadata": {},
   "source": [
    "The downside of 'import xxx' is that you have to write the module name first- math.sqrt(), math.pow() etc. This prevents naming conflicts with programmer-defined functions and such though!"
   ]
  },
  {
   "cell_type": "code",
   "execution_count": null,
   "metadata": {
    "pycharm": {
     "name": "#%%\n"
    }
   },
   "outputs": [],
   "source": [
    "import math\n",
    "print(math.pow(3, 2))\n",
    "print(math.sqrt(9))"
   ]
  },
  {
   "cell_type": "markdown",
   "metadata": {},
   "source": [
    "If you are working with a module with a long name, one can rename it like this- not super important for our kiddos but good to know how people make their lives easier! Some modules have community standards on what to rename it as a best practice. For example, the popular Pandas module should only be renamed to pd."
   ]
  },
  {
   "cell_type": "code",
   "execution_count": null,
   "metadata": {
    "pycharm": {
     "name": "#%%\n"
    }
   },
   "outputs": [],
   "source": [
    "import math as m\n",
    "print(m.pow(3, 2))\n",
    "print(m.sqrt(9))"
   ]
  },
  {
   "cell_type": "markdown",
   "source": [
    "<a id = 'mod3'></a>"
   ],
   "metadata": {
    "collapsed": false,
    "pycharm": {
     "name": "#%% md\n"
    }
   }
  },
  {
   "cell_type": "markdown",
   "source": [
    "\n",
    "## Module 3\n",
    "\n",
    "### Turtle Graphics\n",
    "\n",
    "<div class=\"alert alert-block alert-info\">\n",
    "The Python API in the course is an incomplete but useful list to mention to students. The full list can be found on Python's website, <a href=\"https://docs.python.org/3/library/turtle.html\">https://docs.python.org/3/library/turtle.html</a>. This is a good resource to better understand how certain turtle methods work! Students will often want to do complicated things with this Module- this is especially true with the <b>onkey</b> and <b>listen</b> functions to try to do real-time key presses with their turtle. Support them the best you can while hinting at other modules (Pygame etc) being easier to work with for more complicated tasks!\n",
    "</div>"
   ],
   "metadata": {
    "collapsed": false
   }
  },
  {
   "cell_type": "markdown",
   "source": [
    "As discussed earlier with importing modules, since we teach students to import the turtle module by 'import turtle', turtle.Turtle() means _from the turtle module, run the Turtle() function_. The Turtle() function is the constructor of the Turtle class."
   ],
   "metadata": {
    "collapsed": false
   }
  },
  {
   "cell_type": "markdown",
   "source": [
    "<a id = 'forloop'></a>"
   ],
   "metadata": {
    "collapsed": false,
    "pycharm": {
     "name": "#%% md\n"
    }
   }
  },
  {
   "cell_type": "markdown",
   "source": [
    "\n",
    "### For Loops\n",
    "\n",
    "#### Iterating through Lists/Strings\n",
    "\n",
    "In Python, for loops iterate through a collection of items. We use the range() function to create a list of numbers, or we put a List, String, or other iterable object in the for loop statement to go through. The __counting/loop variable__ can be named whatever, but typically is called __n, x, or i__ when looping through range() to represent a number. The variable is often named __letter or char__ when looping through a String, and often called __item or _whatever the items represent___ when looping through a List/Dictionary etc."
   ],
   "metadata": {
    "collapsed": false
   }
  },
  {
   "cell_type": "code",
   "execution_count": null,
   "outputs": [],
   "source": [
    "print(list(range(5))) #In our IDLE, print(range(5)) is all you need to show this to your students!\n",
    "for n in range(5):\n",
    "    print(n)"
   ],
   "metadata": {
    "collapsed": false,
    "pycharm": {
     "name": "#%%\n"
    }
   }
  },
  {
   "cell_type": "code",
   "execution_count": null,
   "outputs": [],
   "source": [
    "for char in \"Happy\": #note this loop 'repeats' 5 times because there are 5 characters in \"Happy\"\n",
    "    print(char)"
   ],
   "metadata": {
    "collapsed": false,
    "pycharm": {
     "name": "#%%\n"
    }
   }
  },
  {
   "cell_type": "code",
   "execution_count": null,
   "outputs": [],
   "source": [
    "dessertOptions = [\"Cake\", \"Ice Cream\", \"Tiramisu\"]\n",
    "for dessert in dessertOptions: #will repeat 3 times because there are 3 items in dessertOptions\n",
    "    print(dessert)"
   ],
   "metadata": {
    "collapsed": false,
    "pycharm": {
     "name": "#%%\n"
    }
   }
  },
  {
   "cell_type": "markdown",
   "source": [
    "<a id = 'range'></a>"
   ],
   "metadata": {
    "collapsed": false,
    "pycharm": {
     "name": "#%% md\n"
    }
   }
  },
  {
   "cell_type": "markdown",
   "source": [
    "\n",
    "### range() function step parameter\n",
    "\n",
    "This function has three parameters range(start, stop, step) with start having a default value of 0 and step having a default value of 1. You can use negative numbers in the step parameter similarly to how we did with slicing."
   ],
   "metadata": {
    "collapsed": false
   }
  },
  {
   "cell_type": "code",
   "execution_count": null,
   "outputs": [],
   "source": [
    "word = \"yppaH\"\n",
    "for n in range(4, -1, -1):\n",
    "    print(word[n] + \" \" + str(n))"
   ],
   "metadata": {
    "collapsed": false,
    "pycharm": {
     "name": "#%%\n"
    }
   }
  },
  {
   "cell_type": "markdown",
   "source": [
    "<a id = 'whileloop'></a>"
   ],
   "metadata": {
    "collapsed": false,
    "pycharm": {
     "name": "#%% md\n"
    }
   }
  },
  {
   "cell_type": "markdown",
   "source": [
    "\n",
    "### While Loops\n",
    "\n",
    "While loops repeat as long as the Boolean condition written for it continues to be True. Our IDLE will hang on an infinite loop, and there is no way to save the code when this happens to my knowledge. Students use these loops rather normally, but the Boolean conditions they write may be advanced.\n"
   ],
   "metadata": {
    "collapsed": false
   }
  },
  {
   "cell_type": "markdown",
   "source": [
    "\n",
    "#### Boolean Conditions and While True Loops:\n",
    "\n",
    "\n",
    "When a Boolean condition is evaluated as True, it returns the True value. True/False are values you can assign to variables or use in loops."
   ],
   "metadata": {
    "collapsed": false
   }
  },
  {
   "cell_type": "code",
   "execution_count": null,
   "outputs": [],
   "source": [
    "print(5 > 4) #prints True\n",
    "pineapplesAllowed = False"
   ],
   "metadata": {
    "collapsed": false,
    "pycharm": {
     "name": "#%%\n"
    }
   }
  },
  {
   "cell_type": "markdown",
   "source": [
    "Students will use this along with the __break__ keyword to write 'infinite' loops that stop based on if statements within the loop. This is advantageous when you want multiple conditions for breaking out of the loop or wish to create variables within the loop you wouldn't bother to do otherwise. Here is an example that has two ways to break out of the loop."
   ],
   "metadata": {
    "collapsed": false
   }
  },
  {
   "cell_type": "markdown",
   "source": [
    "```Python\n",
    "while True:\n",
    "    if x >= 100:\n",
    "        break\n",
    "    print(\"This loop won't stop until x gets to 100!\")\n",
    "    if x > 3:\n",
    "        print(\"I kid! There is another way.\")\n",
    "        userQuit = input(\"Press q to quit\")\n",
    "        if userQuit == \"q\":\n",
    "            break\n",
    "```"
   ],
   "metadata": {
    "collapsed": false,
    "pycharm": {
     "name": "#%% md\n"
    }
   }
  },
  {
   "cell_type": "markdown",
   "source": [
    "<a id = 'creatingfunc'></a>"
   ],
   "metadata": {
    "collapsed": false,
    "pycharm": {
     "name": "#%% md\n"
    }
   }
  },
  {
   "cell_type": "markdown",
   "source": [
    "\n",
    "### Creating Functions"
   ],
   "metadata": {
    "collapsed": false
   }
  },
  {
   "cell_type": "markdown",
   "source": [
    "Students don't tend to do more advanced techniques with creating functions, but expect kids to use the __return__ keyword early (we teach it in 6.01), or to sometimes have __default parameters__ in their functions."
   ],
   "metadata": {
    "collapsed": false
   }
  },
  {
   "cell_type": "code",
   "execution_count": null,
   "outputs": [],
   "source": [
    "import random\n",
    "def rollDice(diceType, rolls = 1): #When this function is called, if there is no value put for the rolls parameter, it will equal 1.\n",
    "    resultTotal = 0\n",
    "    for n in range(rolls): #code will repeat if needed for multiple rolls\n",
    "        result = random.randint(1, diceType) #random number from 1 to whatever dice is chosen (1-6, 1-20, 1-100, etc)\n",
    "        print(\"You rolled a \" + str(result))\n",
    "        resultTotal += result # += is a shortcut for variable = variable +\n",
    "    return \"Total Roll = \" + str(resultTotal)\n",
    "\n",
    "print(rollDice(6)) #prints out the resultTotal variable\n",
    "print(\"\")\n",
    "print(rollDice(20, 3)) #using a d20 dice (1-20) and rolling 3 times."
   ],
   "metadata": {
    "collapsed": false,
    "pycharm": {
     "name": "#%%\n"
    }
   }
  },
  {
   "cell_type": "markdown",
   "source": [
    "<a id = 'mod4'></a>"
   ],
   "metadata": {
    "collapsed": false,
    "pycharm": {
     "name": "#%% md\n"
    }
   }
  },
  {
   "cell_type": "markdown",
   "source": [
    "\n",
    "### if Statements\n"
   ],
   "metadata": {
    "collapsed": false
   }
  },
  {
   "cell_type": "markdown",
   "source": [
    "\n",
    "<div class=\"alert alert-block alert-info\">\n",
    "Errors with String comparison:\n",
    "\n",
    "Students will often make a mistake when trying to compare inputs with numbers where one or both values are still Strings. Strings can be checked for True or False with the < and > operators, but it uses the ASCII value of the characters which results in odd results. This is a logic error students will often miss since it's not a strict syntax error that will stop the code from running. In modern Python, the code won't allow you to compare a String to an Integer (our IDLE still does...), but still lets you compare Strings to Strings this way.\n",
    "</div>"
   ],
   "metadata": {
    "collapsed": false
   }
  },
  {
   "cell_type": "code",
   "execution_count": null,
   "outputs": [],
   "source": [
    "if \"5\" < \"18\": #\"5\" > \"1\" in ASCII, so this ends up being False\n",
    "    print(\"5 is less than 18! You can join the club!\")\n",
    "\n",
    "if \"16\" < \"18\": #\"1\" == \"1\" in ASCII, then \"0\" < \"8\" in ASCII so this ends up being True\n",
    "    print(\"16 is less than 18! You can join the club!\")\n",
    "\n",
    "if \"101\" < \"18\": #\"1\" == \"1\" in ASCII, then \"0\" < \"8\" in ASCII so this ends up being True\n",
    "    print(\"101 is less than 18! You can join the club!\")\n",
    "\n",
    "if \"5\" < 18: #Our IDLE won't get an error, but none of these would be True if 18 was an integer\n",
    "    print(\"5 is less than 18! You can join the club!\")"
   ],
   "metadata": {
    "collapsed": false,
    "pycharm": {
     "name": "#%%\n"
    }
   }
  },
  {
   "cell_type": "markdown",
   "source": [
    "\n",
    "#### Truthy/Falsy Values (Yes that's what they are called)\n",
    "\n",
    "Values in Python have a built in True/False value depending on the type of data it is. Students will use this idea to check if an item exists or if an item is 'empty'"
   ],
   "metadata": {
    "collapsed": false
   }
  },
  {
   "cell_type": "code",
   "execution_count": null,
   "outputs": [],
   "source": [
    "resultList = [2, 3, 5]\n",
    "if resultList: #The list has items in it, so this will be True\n",
    "    print(\"Your results were \" + str(resultList))\n",
    "\n",
    "resultList = []\n",
    "if resultList: #the list is empty now so this will be False\n",
    "    print(\"Your results were \" + str(resultList))\n",
    "else:\n",
    "    print(\"There has been an error you must have not played yet.\")"
   ],
   "metadata": {
    "collapsed": false,
    "pycharm": {
     "name": "#%%\n"
    }
   }
  },
  {
   "cell_type": "markdown",
   "source": [],
   "metadata": {
    "collapsed": false,
    "pycharm": {
     "name": "#%% md\n"
    }
   }
  },
  {
   "cell_type": "markdown",
   "source": [
    "<a id = 'elif'></a>"
   ],
   "metadata": {
    "collapsed": false
   }
  },
  {
   "cell_type": "markdown",
   "source": [
    "\n",
    "### elif Statements\n",
    "\n",
    "elif, known as else-if in other languages, is a shortcut for an if statement directly inside an else statement. This combo is used often to help skip over conditions that aren't relevant to the code anymore- either because there is only one condition that can be True or you only want to run the code block for the first condition that is True. Elif just helps avoid excessive indentation! The two code snippets below run exactly the same way."
   ],
   "metadata": {
    "collapsed": false
   }
  },
  {
   "cell_type": "markdown",
   "source": [
    "elif, known as else-if in other languages, is a shortcut for an if statement directly inside an else statement. This combo is used often to help skip over conditions that aren’t relevant to the code anymore- either because there is only one condition that can be True or you only want to run the code block for the first condition that is True. Elif just helps avoid excessive indentation! The two code snippets below run exactly the same way."
   ],
   "metadata": {
    "collapsed": false
   }
  },
  {
   "cell_type": "code",
   "execution_count": null,
   "outputs": [],
   "source": [
    "#else + if\n",
    "\n",
    "fishWeight = 200\n",
    "\n",
    "if fishWeight > 100:\n",
    "    print(\"Woah! That's a monster fish!'\")\n",
    "else:\n",
    "    if fishWeight > 40: #this won't be checked since the if statement above is True\n",
    "        print(\"Great catch! One to write home about.\")\n",
    "    else:\n",
    "        if fishWeight < 5:\n",
    "            print(\"Aww cute! Throw them back into the water though.\")\n",
    "        else:\n",
    "            print(\"Congrats on catching a fish!\")"
   ],
   "metadata": {
    "collapsed": false,
    "pycharm": {
     "name": "#%%\n"
    }
   }
  },
  {
   "cell_type": "code",
   "execution_count": null,
   "outputs": [],
   "source": [
    "#elif\n",
    "\n",
    "fishWeight = 200\n",
    "\n",
    "if fishWeight > 100:\n",
    "    print(\"Woah! That's a monster fish!'\")\n",
    "elif fishWeight > 40:\n",
    "    print(\"Great catch! One to write home about.\")\n",
    "elif fishWeight < 5:\n",
    "    print(\"Aww cute! Throw them back into the water though.\")\n",
    "else:\n",
    "    print(\"Congrats on catching a fish!\")"
   ],
   "metadata": {
    "collapsed": false,
    "pycharm": {
     "name": "#%%\n"
    }
   }
  },
  {
   "cell_type": "markdown",
   "source": [
    "<a id=\"logicaloperator\"></a>"
   ],
   "metadata": {
    "collapsed": false,
    "pycharm": {
     "name": "#%% md\n"
    }
   }
  },
  {
   "cell_type": "markdown",
   "source": [
    "\n",
    "### Logical Operators (and/or/not)\n",
    "\n",
    "A common mistake students will do is not fully write out the condition between each use of __and__ or __or__."
   ],
   "metadata": {
    "collapsed": false,
    "pycharm": {
     "name": "#%% md\n"
    }
   }
  },
  {
   "cell_type": "code",
   "execution_count": null,
   "outputs": [],
   "source": [
    "duesPaid = \"n\"\n",
    "paperwork = \"y\"\n",
    "\n",
    "if duesPaid and paperwork == \"y\":\n",
    "    #Python reads this as two conditions: if duesPaid: and if paperwork == \"y\":. if duesPaid: is True because of the truthy value explained earlier.\n",
    "    print(\"Welcome to the club!\")"
   ],
   "metadata": {
    "collapsed": false,
    "pycharm": {
     "name": "#%%\n"
    }
   }
  },
  {
   "cell_type": "code",
   "execution_count": null,
   "outputs": [],
   "source": [
    "duesPaid = \"n\"\n",
    "paperwork = \"y\"\n",
    "\n",
    "if duesPaid == \"y\" and paperwork == \"y\": #this checks both as intended and determines its False.\n",
    "    print(\"Welcome to the club!\")\n",
    "else:\n",
    "    print(\"Either you didn't pay or you didn't submit your paperwork yet!\")"
   ],
   "metadata": {
    "collapsed": false,
    "pycharm": {
     "name": "#%%\n"
    }
   }
  },
  {
   "cell_type": "markdown",
   "source": [
    "<a id =\"lists\"></a>"
   ],
   "metadata": {
    "collapsed": false,
    "pycharm": {
     "name": "#%% md\n"
    }
   }
  },
  {
   "cell_type": "markdown",
   "source": [
    "\n",
    "### Lists\n"
   ],
   "metadata": {
    "collapsed": false
   }
  },
  {
   "cell_type": "markdown",
   "source": [
    "Students familiar with Lists will know the for loop shortcut that was [shown earlier](#forloop), or will use the __in__ keyword in if statements instead of using a loop to check if the user's favorite is in their list."
   ],
   "metadata": {
    "collapsed": false
   }
  },
  {
   "cell_type": "code",
   "execution_count": null,
   "outputs": [],
   "source": [
    "#for loop style for finding an item in a list\n",
    "numList = [14, 12, 1, 19, 25]\n",
    "userNum = 19\n",
    "\n",
    "for n in range(len(numList)):\n",
    "    if userNum == numList[n]:\n",
    "        print(\"We have a number in common!\")\n",
    "\n",
    "#if condition with the in keyword\n",
    "\n",
    "if userNum in numList: #basically a shortcut for the above loop\n",
    "    print(\"We have a number in common- no need to write a loop!\")"
   ],
   "metadata": {
    "collapsed": false,
    "pycharm": {
     "name": "#%%\n"
    }
   }
  },
  {
   "cell_type": "markdown",
   "source": [
    "<a id=\"flag\"></a>"
   ],
   "metadata": {
    "collapsed": false
   }
  },
  {
   "cell_type": "markdown",
   "source": [
    "\n",
    "####Flag (Tracking) Variables\n",
    "\n",
    "A flag variable is a simple variable used to help you keep track of a desired behavior. This helps avoid writing complicated conditions and is useful in the list assignment. Let's look similar code from earlier, but with an else statement added."
   ],
   "metadata": {
    "collapsed": false
   }
  },
  {
   "cell_type": "code",
   "execution_count": 2,
   "outputs": [
    {
     "name": "stdout",
     "output_type": "stream",
     "text": [
      "We don't have a number in common!\n",
      "We don't have a number in common!\n",
      "We don't have a number in common!\n"
     ]
    }
   ],
   "source": [
    "numList = [14, 12, 1]\n",
    "userNum = 0\n",
    "\n",
    "for n in range(len(numList)):\n",
    "    if userNum == numList[n]:\n",
    "        print(\"We have a number in common!\")\n",
    "    else:\n",
    "        print(\"We don't have a number in common!\")"
   ],
   "metadata": {
    "collapsed": false,
    "pycharm": {
     "name": "#%%\n"
    }
   }
  },
  {
   "cell_type": "markdown",
   "source": [
    "Well that's awkward. We might need just write a separate if statement outside the loop."
   ],
   "metadata": {
    "collapsed": false
   }
  },
  {
   "cell_type": "code",
   "execution_count": 3,
   "outputs": [
    {
     "name": "stdout",
     "output_type": "stream",
     "text": [
      "We don't have a number in common!\n"
     ]
    }
   ],
   "source": [
    "numList = [14, 12, 1]\n",
    "userNum = 0\n",
    "\n",
    "for n in range(len(numList)):\n",
    "    if userNum == numList[n]:\n",
    "        print(\"We have a number in common!\")\n",
    "\n",
    "if userNum != numList[0] and userNum != numList[1] and userNum != numList[2]:\n",
    "        print(\"We don't have a number in common!\")"
   ],
   "metadata": {
    "collapsed": false,
    "pycharm": {
     "name": "#%%\n"
    }
   }
  },
  {
   "cell_type": "markdown",
   "source": [
    "Ok that solved our problem but what an annoying condition to write! Let's see how a flag variable helps:"
   ],
   "metadata": {
    "collapsed": false
   }
  },
  {
   "cell_type": "code",
   "execution_count": 4,
   "outputs": [
    {
     "name": "stdout",
     "output_type": "stream",
     "text": [
      "We don't have a number in common!\n"
     ]
    }
   ],
   "source": [
    "numList = [14, 12, 1]\n",
    "userNum = 0\n",
    "\n",
    "match = 0 #I will change this to 1 when a match is found.\n",
    "for n in range(len(numList)):\n",
    "    if userNum == numList[n]:\n",
    "        print(\"We have a number in common!\")\n",
    "        match = 1\n",
    "\n",
    "if match == 0: #It will only still equal 0 if there was no match\n",
    "    print(\"We don't have a number in common!\")"
   ],
   "metadata": {
    "collapsed": false,
    "pycharm": {
     "name": "#%%\n"
    }
   }
  },
  {
   "cell_type": "markdown",
   "source": [
    "Unfortunately this isn't something we actively teach in the course, but technically students have all the skills required to do this sort of thing! Very useful technique in any language to know."
   ],
   "metadata": {
    "collapsed": false
   }
  },
  {
   "cell_type": "markdown",
   "source": [
    "<a id=\"enumerate\"></a>"
   ],
   "metadata": {
    "collapsed": false,
    "pycharm": {
     "name": "#%% md\n"
    }
   }
  },
  {
   "cell_type": "markdown",
   "source": [
    "\n",
    "#### enumerate()\n",
    "\n",
    "Another common advanced technique is the __enumerate()__ function. This Python specific function helps to loop both through index numbers and the items of a list/String at the same time! In professional code, the use of _for index in range(len(listName)):_ is frowned upon compared to _for index, item in enumerate(listName)_."
   ],
   "metadata": {
    "collapsed": false
   }
  },
  {
   "cell_type": "code",
   "execution_count": null,
   "outputs": [],
   "source": [
    "favFlavors = [\"Apple\", \"Banana\", \"Orange\", \"Chocolate\"]\n",
    "for index, flavor in enumerate(favFlavors, 1): #I choose to start the index at 1 and also have the items available\n",
    "    print(\"Flavor # \" + str(index) + \" is \" + flavor)"
   ],
   "metadata": {
    "collapsed": false,
    "pycharm": {
     "name": "#%%\n"
    }
   }
  },
  {
   "cell_type": "markdown",
   "source": [
    "<a id=\"nestedloop\"></a>"
   ],
   "metadata": {
    "collapsed": false
   }
  },
  {
   "cell_type": "markdown",
   "source": [
    "\n",
    "#### Nested Loops\n",
    "\n",
    "Students will often misinterpret the directions in 4.04, and assume we are asking them to compare the user's list of 5 favorites to the programmer's list of 5. While some students will find out how to do this or already knew how, others will suffer and write __25 if statements__. Its good to know how nested loops can help with this so you can have meaningful conversations about it with both groups of kiddos!\n",
    "\n",
    "I will put items in the userFav list since input() is a bit awkward to run in this document, but here is the code one would make to get that list filled out!\n",
    "\n",
    "```Python\n",
    "favFlavors = [\"Apple\", \"Banana\", \"Orange\", \"Chocolate\", \"Lime\"]\n",
    "userFlavors = []\n",
    "for n in range(len(favFlavors)):\n",
    "    favorite = input(\"What is one of your favorite flavors?\")\n",
    "    userFlavors.append(favorite)\n",
    "    #This code will add the 5 inputted flavors to the userFlavors list.\n",
    "\n",
    "```"
   ],
   "metadata": {
    "collapsed": false
   }
  },
  {
   "cell_type": "markdown",
   "source": [
    "With this code, the outer loop that is going to cycle through favFlavors starts with n = 0, and runs the inner loop that will cycle through userFlavors with m going from 0 to 4 and then it makes the if statement check. Then the outer loop repeats with n = 1, and so on and so on..."
   ],
   "metadata": {
    "collapsed": false
   }
  },
  {
   "cell_type": "code",
   "execution_count": 5,
   "outputs": [
    {
     "name": "stdout",
     "output_type": "stream",
     "text": [
      "Orange is one of my favorites as well!\n",
      "Chocolate is one of my favorites as well!\n",
      "Lime is one of my favorites as well!\n"
     ]
    }
   ],
   "source": [
    "favFlavors = [\"Apple\", \"Banana\", \"Orange\", \"Chocolate\", \"Lime\"]\n",
    "userFlavors = [\"Lime\", \"Lemon\", \"Orange\", \"Pineapple\", \"Chocolate\"]\n",
    "\n",
    "for n in range(len(favFlavors)):\n",
    "    for m in range(len(userFlavors)):\n",
    "        if favFlavors[n] == userFlavors[m]:\n",
    "            print(favFlavors[n] + \" is one of my favorites as well!\")"
   ],
   "metadata": {
    "collapsed": false,
    "pycharm": {
     "name": "#%%\n"
    }
   }
  },
  {
   "cell_type": "markdown",
   "source": [
    "<a id=\"musings\"></a>"
   ],
   "metadata": {
    "collapsed": false
   }
  },
  {
   "cell_type": "markdown",
   "source": [
    "\n",
    "## Overall Philosophy on the Course\n",
    "\n",
    "This course was designed to teach students the basics of data types, loops, conditionals, and the beginnings of Object-Oriented Programming which is indeed a solid foundation to grow from. Every topic in this course can be built on. Here are just some notes and summaries of the Modules.\n",
    "\n",
    "__Modules 1/2__\n",
    "\n",
    "These modules are all about the three basic types of data- Strings, integers, and floats, and learning how to identify, use, and convert them as needed. Students are also being taught _best practices_ on how to write variable names, the use of def main(): and main() and more. Note that some of the teachings we do counter Python's official style guide. For example, python uses underscores for variable/function names (movie_title vs movieTitle).\n",
    "\n",
    "__Module 3__\n",
    "\n",
    "Turtle is great Module for students to learn how to interact with a class (even though they don't know its one!), and it serves to create practical problems that the loops and created functions solve nicely. While we don't force students to create their own functions after this chapter, it is so important to understand the many small benefits in making them. People made the functions we use and eventually someone may use the functions our students make too! Great time to discuss the community aspect of coding.\n",
    "\n",
    "__Module 4__\n",
    "\n",
    "If statements and their partners are very intuitive to students as far as their usefulness goes, but the same can not be said of Lists. Iterating through Lists and other containers like it are without a doubt one of the most crucial things that needs to be known to complete many routine coding tasks. We continue on with looping through lists and Strings in Module 5 but the class doesn't do much to explain the new techniques.\n",
    "\n",
    "__Module 5__\n",
    "\n",
    "The amount of work we do on Classes and Object-Oriented Programming is but the tip of the iceberg, but the spirit of the idea is that Classes organize our code when we need functions to access common pieces of data. Imagine if you had to plug in where the turtle is, where its facing, and how fast its going everytime you want it to move forward! Classes solve problems like these and students should be encouraged to learn more about these after they finish here.\n",
    "\n",
    "__Module 6__\n",
    "\n",
    "The return keyword is discussed in 6.01, but really should have been in 3.04 if they could have fit it in. This is an essential piece to creating useful functions! The 6.01 assignment is a loose interpretation of a _unit test_, which is basically the only formal test that amateurs bother with."
   ],
   "metadata": {
    "collapsed": false,
    "pycharm": {
     "name": "#%% md\n"
    }
   }
  },
  {
   "cell_type": "markdown",
   "source": [
    "\n"
   ],
   "metadata": {
    "collapsed": false
   }
  }
 ],
 "metadata": {
  "kernelspec": {
   "display_name": "Python 3 (ipykernel)",
   "language": "python",
   "name": "python3"
  },
  "language_info": {
   "codemirror_mode": {
    "name": "ipython",
    "version": 3
   },
   "file_extension": ".py",
   "mimetype": "text/x-python",
   "name": "python",
   "nbconvert_exporter": "python",
   "pygments_lexer": "ipython3",
   "version": "3.9.5"
  }
 },
 "nbformat": 4,
 "nbformat_minor": 1
}